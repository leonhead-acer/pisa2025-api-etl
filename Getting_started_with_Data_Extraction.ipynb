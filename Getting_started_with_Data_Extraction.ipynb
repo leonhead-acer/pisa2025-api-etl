{
 "cells": [
  {
   "cell_type": "markdown",
   "id": "d0a4e05f",
   "metadata": {},
   "source": [
    "## Data sourcing\n",
    "\n",
    "Source data from various source systems and ingest them using python code.\n",
    "\n",
    "1. Parquet files\n",
    "2. CSV files\n",
    "3. APIs\n",
    "4. RDBMS databases\n",
    "5. HTML"
   ]
  },
  {
   "cell_type": "code",
   "execution_count": 4,
   "id": "0c7de7f8",
   "metadata": {},
   "outputs": [],
   "source": [
    "# import modules\n",
    "import certifi\n",
    "import json\n",
    "import pandas as pd\n",
    "import numpy as np\n",
    "import matplotlib.pyplot as plt\n",
    "import sqlite3\n",
    "import urllib3\n",
    "from urllib3 import request\n",
    "import requests\n",
    "from unicodedata import normalize"
   ]
  },
  {
   "cell_type": "markdown",
   "id": "746175dc",
   "metadata": {},
   "source": [
    "### Sourcing Parquet data"
   ]
  },
  {
   "cell_type": "markdown",
   "id": "f8c37682",
   "metadata": {},
   "source": [
    "Please visit the url https://www1.nyc.gov/site/tlc/about/tlc-trip-record-data.page"
   ]
  },
  {
   "cell_type": "code",
   "execution_count": null,
   "id": "132b5dc6",
   "metadata": {},
   "outputs": [],
   "source": [
    "# Read data from the Parquet file. We use pandas read_parquet method for ease and speed.\n",
    "df_parquet = pd.read_parquet(\"yellow_tripdata_2022-01.parquet\")\n",
    "df_parquet.head()"
   ]
  },
  {
   "cell_type": "markdown",
   "id": "e8b2f93c",
   "metadata": {},
   "source": [
    "### Sourcing CSV data "
   ]
  },
  {
   "cell_type": "markdown",
   "id": "c9a306a2",
   "metadata": {},
   "source": [
    "Please visit the url https://data.cityofnewyork.us/resource/h9gi-nx95.csv?$limit=500\n"
   ]
  },
  {
   "cell_type": "code",
   "execution_count": null,
   "id": "56007303",
   "metadata": {},
   "outputs": [],
   "source": [
    "# Read data from the CSV file. We use pandas read_csv method for ease and speed.\n",
    "df_csv = pd.read_csv(\"h9gi-nx95.csv\")\n",
    "df_csv.head()"
   ]
  },
  {
   "cell_type": "markdown",
   "id": "e2da41e6",
   "metadata": {},
   "source": [
    "### Sourcing data from APIs"
   ]
  },
  {
   "cell_type": "markdown",
   "id": "a6fc77b5",
   "metadata": {},
   "source": [
    "Please make sure to install the certifi library using - pipenv install certifi"
   ]
  },
  {
   "cell_type": "code",
   "execution_count": null,
   "id": "9a061b34",
   "metadata": {},
   "outputs": [],
   "source": [
    "# get api data from url\n",
    "url = 'https://data.cityofnewyork.us/resource/h9gi-nx95.json?$limit=500'\n",
    "\n",
    "# Check if API is available to retrive the data\n",
    "apt_status = http.request('GET', url).status\n",
    "print(apt_status)\n",
    "if apt_status == 200:\n",
    "    # Sometimes we get certificate error . We shoul never silence this error as this may cause a securirty threat.\n",
    "    # Create a Pool manager that can be used to read the API response \n",
    "    http = urllib3.PoolManager(cert_reqs='CERT_REQUIRED',ca_certs=certifi.where())\n",
    "    data = json.loads(http.request('GET', url).data.decode('utf-8'))\n",
    "    df_api = pd.json_normalize(data)\n",
    "else:\n",
    "    df_api = pd.Dataframe()\n",
    "df_api.head(10)"
   ]
  },
  {
   "cell_type": "code",
   "execution_count": 99,
   "id": "0edcce9e",
   "metadata": {},
   "outputs": [
    {
     "name": "stdout",
     "output_type": "stream",
     "text": [
      "Successfuly obtained a new token\n"
     ]
    }
   ],
   "source": [
    "import sys\n",
    "import requests\n",
    "import json\n",
    "import logging\n",
    "\n",
    "logging.captureWarnings(True)\n",
    "\n",
    "##\n",
    "##    function to obtain a new OAuth 2.0 token from the authentication server\n",
    "##\n",
    "def get_new_token():\n",
    "\n",
    "    auth_server_url = \"https://auth-pisa-qa.staging.gcp-eu.taocloud.org/v1/oauth2/tokens\"\n",
    "    client_id = 'Q2caBAhwvNF8NgmrEPKrUw'\n",
    "    client_secret = 'wHtKRe6eA7BWRBNIISiTQk3uM210OJdQ'\n",
    "\n",
    "    token_req_payload = {'grant_type': 'client_credentials'}\n",
    "\n",
    "    token_response = requests.post(auth_server_url,\n",
    "    data=token_req_payload, verify=False, allow_redirects=False,\n",
    "    auth=(client_id, client_secret))\n",
    "                \n",
    "    if token_response.status_code !=200:\n",
    "        print(\"Failed to obtain token from the OAuth 2.0 server\", file=sys.stderr)\n",
    "        sys.exit(1)\n",
    "\n",
    "    print(\"Successfuly obtained a new token\")\n",
    "    tokens = json.loads(token_response.text)\n",
    "    return tokens['access_token']\n",
    "\n",
    "## \n",
    "## \tobtain a token before calling the API for the first time\n",
    "##\n",
    "token = get_new_token()\n"
   ]
  },
  {
   "cell_type": "code",
   "execution_count": 104,
   "id": "3c4be730",
   "metadata": {},
   "outputs": [],
   "source": [
    "# Get request function\n",
    "\n",
    "def req_get(url,token,params=None):\n",
    "\n",
    "##\n",
    "##   call the API with the token\n",
    "##\n",
    "    \n",
    "    api_url_results_all = \"https://dynamic-query-api-pisa-qa.staging.gcp-eu.taocloud.org/api/v1/deliveries/results\"\n",
    "    params = (('page',0),('results',1))\n",
    "    api_call_headers = {'Authorization': 'Bearer ' + token}\n",
    "    api_call_response = requests.get(url, params, headers=api_call_headers, verify=False)\n",
    "\n",
    "    if\tapi_call_response.status_code == 401 | api_call_response.status_code == 403:\n",
    "        token = get_new_token()\n",
    "\n",
    "    data = json.loads(api_call_response.text)\n",
    "    df_api = pd.json_normalize(data)\n",
    "    return df_api\n"
   ]
  },
  {
   "cell_type": "code",
   "execution_count": 105,
   "id": "cb05e4b1",
   "metadata": {},
   "outputs": [
    {
     "data": {
      "text/html": [
       "<div>\n",
       "<style scoped>\n",
       "    .dataframe tbody tr th:only-of-type {\n",
       "        vertical-align: middle;\n",
       "    }\n",
       "\n",
       "    .dataframe tbody tr th {\n",
       "        vertical-align: top;\n",
       "    }\n",
       "\n",
       "    .dataframe thead th {\n",
       "        text-align: right;\n",
       "    }\n",
       "</style>\n",
       "<table border=\"1\" class=\"dataframe\">\n",
       "  <thead>\n",
       "    <tr style=\"text-align: right;\">\n",
       "      <th></th>\n",
       "      <th>status</th>\n",
       "    </tr>\n",
       "  </thead>\n",
       "  <tbody>\n",
       "    <tr>\n",
       "      <th>0</th>\n",
       "      <td>ok</td>\n",
       "    </tr>\n",
       "  </tbody>\n",
       "</table>\n",
       "</div>"
      ],
      "text/plain": [
       "  status\n",
       "0     ok"
      ]
     },
     "execution_count": 105,
     "metadata": {},
     "output_type": "execute_result"
    }
   ],
   "source": [
    "api_url_health = \"https://dynamic-query-api-pisa-qa.staging.gcp-eu.taocloud.org/api/v1/health\"\n",
    "df_health = req_get(url=api_url_health,token=token)\n",
    "df_health"
   ]
  },
  {
   "cell_type": "code",
   "execution_count": 106,
   "id": "c6d0fe6c",
   "metadata": {},
   "outputs": [
    {
     "data": {
      "text/html": [
       "<div>\n",
       "<style scoped>\n",
       "    .dataframe tbody tr th:only-of-type {\n",
       "        vertical-align: middle;\n",
       "    }\n",
       "\n",
       "    .dataframe tbody tr th {\n",
       "        vertical-align: top;\n",
       "    }\n",
       "\n",
       "    .dataframe thead th {\n",
       "        text-align: right;\n",
       "    }\n",
       "</style>\n",
       "<table border=\"1\" class=\"dataframe\">\n",
       "  <thead>\n",
       "    <tr style=\"text-align: right;\">\n",
       "      <th></th>\n",
       "      <th>name</th>\n",
       "      <th>description</th>\n",
       "    </tr>\n",
       "  </thead>\n",
       "  <tbody>\n",
       "    <tr>\n",
       "      <th>0</th>\n",
       "      <td>portalSessions</td>\n",
       "      <td>Holds information on portal sessions</td>\n",
       "    </tr>\n",
       "    <tr>\n",
       "      <th>1</th>\n",
       "      <td>portalUserGroups</td>\n",
       "      <td>Holds information on portal user groups</td>\n",
       "    </tr>\n",
       "    <tr>\n",
       "      <th>2</th>\n",
       "      <td>portalGroups</td>\n",
       "      <td>Holds information on portal groups</td>\n",
       "    </tr>\n",
       "    <tr>\n",
       "      <th>3</th>\n",
       "      <td>portalUserSessions</td>\n",
       "      <td>Holds information on portal user sessions</td>\n",
       "    </tr>\n",
       "    <tr>\n",
       "      <th>4</th>\n",
       "      <td>portalUser</td>\n",
       "      <td>Holds information on portal user</td>\n",
       "    </tr>\n",
       "    <tr>\n",
       "      <th>5</th>\n",
       "      <td>portalBattery</td>\n",
       "      <td>Holds information on portal battery</td>\n",
       "    </tr>\n",
       "    <tr>\n",
       "      <th>6</th>\n",
       "      <td>testRunnerDeliveries</td>\n",
       "      <td>Holds information on test runner deliveries</td>\n",
       "    </tr>\n",
       "    <tr>\n",
       "      <th>7</th>\n",
       "      <td>datastoreDeliveries</td>\n",
       "      <td>Holds information on datastore deliveries</td>\n",
       "    </tr>\n",
       "    <tr>\n",
       "      <th>8</th>\n",
       "      <td>datastoreDeliveryResults</td>\n",
       "      <td>Holds information on datastore delivery results</td>\n",
       "    </tr>\n",
       "    <tr>\n",
       "      <th>9</th>\n",
       "      <td>datastoreItemResults</td>\n",
       "      <td>Holds information on datastore item results</td>\n",
       "    </tr>\n",
       "    <tr>\n",
       "      <th>10</th>\n",
       "      <td>datastoreUIEvents</td>\n",
       "      <td>Holds information on datastore ui events</td>\n",
       "    </tr>\n",
       "    <tr>\n",
       "      <th>11</th>\n",
       "      <td>proctoringAcsLog</td>\n",
       "      <td>Holds information on proctoring acs actions</td>\n",
       "    </tr>\n",
       "    <tr>\n",
       "      <th>12</th>\n",
       "      <td>deliveryExecutions</td>\n",
       "      <td>Holds information on test runner delivery exec...</td>\n",
       "    </tr>\n",
       "    <tr>\n",
       "      <th>13</th>\n",
       "      <td>portalContract</td>\n",
       "      <td>Holds information on portal contracts</td>\n",
       "    </tr>\n",
       "    <tr>\n",
       "      <th>14</th>\n",
       "      <td>portalHierarchy</td>\n",
       "      <td>Holds information on portal hierarchy</td>\n",
       "    </tr>\n",
       "    <tr>\n",
       "      <th>15</th>\n",
       "      <td>portalImportTasks</td>\n",
       "      <td>Holds information on portal import tasks</td>\n",
       "    </tr>\n",
       "    <tr>\n",
       "      <th>16</th>\n",
       "      <td>portalHierarchyConfig</td>\n",
       "      <td>Holds information on portal config hierarchy</td>\n",
       "    </tr>\n",
       "    <tr>\n",
       "      <th>17</th>\n",
       "      <td>diagnosticResult</td>\n",
       "      <td>Holds information on diagnostic results</td>\n",
       "    </tr>\n",
       "  </tbody>\n",
       "</table>\n",
       "</div>"
      ],
      "text/plain": [
       "                        name  \\\n",
       "0             portalSessions   \n",
       "1           portalUserGroups   \n",
       "2               portalGroups   \n",
       "3         portalUserSessions   \n",
       "4                 portalUser   \n",
       "5              portalBattery   \n",
       "6       testRunnerDeliveries   \n",
       "7        datastoreDeliveries   \n",
       "8   datastoreDeliveryResults   \n",
       "9       datastoreItemResults   \n",
       "10         datastoreUIEvents   \n",
       "11          proctoringAcsLog   \n",
       "12        deliveryExecutions   \n",
       "13            portalContract   \n",
       "14           portalHierarchy   \n",
       "15         portalImportTasks   \n",
       "16     portalHierarchyConfig   \n",
       "17          diagnosticResult   \n",
       "\n",
       "                                          description  \n",
       "0                Holds information on portal sessions  \n",
       "1             Holds information on portal user groups  \n",
       "2                  Holds information on portal groups  \n",
       "3           Holds information on portal user sessions  \n",
       "4                    Holds information on portal user  \n",
       "5                 Holds information on portal battery  \n",
       "6         Holds information on test runner deliveries  \n",
       "7           Holds information on datastore deliveries  \n",
       "8     Holds information on datastore delivery results  \n",
       "9         Holds information on datastore item results  \n",
       "10           Holds information on datastore ui events  \n",
       "11        Holds information on proctoring acs actions  \n",
       "12  Holds information on test runner delivery exec...  \n",
       "13              Holds information on portal contracts  \n",
       "14              Holds information on portal hierarchy  \n",
       "15           Holds information on portal import tasks  \n",
       "16       Holds information on portal config hierarchy  \n",
       "17            Holds information on diagnostic results  "
      ]
     },
     "execution_count": 106,
     "metadata": {},
     "output_type": "execute_result"
    }
   ],
   "source": [
    "api_url_entity_list = \"https://dynamic-query-api-pisa-qa.staging.gcp-eu.taocloud.org/api/v1/entity/list\"\n",
    "df_entity_list = req_get(url=api_url_entity_list,token=token)\n",
    "df_entity_list"
   ]
  },
  {
   "cell_type": "code",
   "execution_count": 110,
   "id": "c6de6c99",
   "metadata": {},
   "outputs": [
    {
     "data": {
      "text/html": [
       "<div>\n",
       "<style scoped>\n",
       "    .dataframe tbody tr th:only-of-type {\n",
       "        vertical-align: middle;\n",
       "    }\n",
       "\n",
       "    .dataframe tbody tr th {\n",
       "        vertical-align: top;\n",
       "    }\n",
       "\n",
       "    .dataframe thead th {\n",
       "        text-align: right;\n",
       "    }\n",
       "</style>\n",
       "<table border=\"1\" class=\"dataframe\">\n",
       "  <thead>\n",
       "    <tr style=\"text-align: right;\">\n",
       "      <th></th>\n",
       "      <th>message</th>\n",
       "    </tr>\n",
       "  </thead>\n",
       "  <tbody>\n",
       "    <tr>\n",
       "      <th>0</th>\n",
       "      <td>Delivery not found</td>\n",
       "    </tr>\n",
       "  </tbody>\n",
       "</table>\n",
       "</div>"
      ],
      "text/plain": [
       "              message\n",
       "0  Delivery not found"
      ]
     },
     "execution_count": 110,
     "metadata": {},
     "output_type": "execute_result"
    }
   ],
   "source": [
    "api_url_results_all = \"https://dynamic-query-api-pisa-qa.staging.gcp-eu.taocloud.org/api/v1/deliveries/results\"\n",
    "params = (('page',1),('results',10))\n",
    "df_results_all = req_get(url=api_url_results_all,token=token, params = params)\n",
    "df_results_all"
   ]
  },
  {
   "cell_type": "code",
   "execution_count": 112,
   "id": "7d412edd",
   "metadata": {},
   "outputs": [
    {
     "data": {
      "text/html": [
       "<div>\n",
       "<style scoped>\n",
       "    .dataframe tbody tr th:only-of-type {\n",
       "        vertical-align: middle;\n",
       "    }\n",
       "\n",
       "    .dataframe tbody tr th {\n",
       "        vertical-align: top;\n",
       "    }\n",
       "\n",
       "    .dataframe thead th {\n",
       "        text-align: right;\n",
       "    }\n",
       "</style>\n",
       "<table border=\"1\" class=\"dataframe\">\n",
       "  <thead>\n",
       "    <tr style=\"text-align: right;\">\n",
       "      <th></th>\n",
       "      <th>message</th>\n",
       "    </tr>\n",
       "  </thead>\n",
       "  <tbody>\n",
       "    <tr>\n",
       "      <th>0</th>\n",
       "      <td>Delivery not found</td>\n",
       "    </tr>\n",
       "  </tbody>\n",
       "</table>\n",
       "</div>"
      ],
      "text/plain": [
       "              message\n",
       "0  Delivery not found"
      ]
     },
     "execution_count": 112,
     "metadata": {},
     "output_type": "execute_result"
    }
   ],
   "source": [
    "deliveryId = \"4d31793696fc\"\n",
    "api_url_delid_result = \"https://dynamic-query-api-pisa-qa.staging.gcp-eu.taocloud.org/api/v1/deliveries/%s/results\" % deliveryId\n",
    "params = (('page',1),('results',10),('deliveryId',deliveryId))\n",
    "df_results_delid = req_get(url=api_url_results_all,token=token, params = params)\n",
    "df_results_delid"
   ]
  },
  {
   "cell_type": "markdown",
   "id": "282fc78f",
   "metadata": {},
   "source": [
    "### Sourcing Data from RDBMS tables"
   ]
  },
  {
   "cell_type": "code",
   "execution_count": null,
   "id": "0a384b2d",
   "metadata": {},
   "outputs": [],
   "source": [
    "# Read sqlite query results into a pandas DataFrame\n",
    "with sqlite3.connect(\"movies.sqlite\") as conn:\n",
    "    df = pd.read_sql(\"SELECT * from movies\", conn)\n",
    "df.head()"
   ]
  },
  {
   "cell_type": "markdown",
   "id": "ab324ee5",
   "metadata": {},
   "source": [
    "# Sourcing data from Webpages"
   ]
  },
  {
   "cell_type": "markdown",
   "id": "6ff92439",
   "metadata": {},
   "source": [
    "Please visit the url https://en.wikipedia.org/wiki/List_of_countries_by_GDP_(nominal)"
   ]
  },
  {
   "cell_type": "code",
   "execution_count": null,
   "id": "97c5fffd",
   "metadata": {},
   "outputs": [],
   "source": [
    "# get data from url\n",
    "df_html = pd.read_html('https://en.wikipedia.org/wiki/List_of_countries_by_GDP_(nominal)',match = 'by country')\n",
    "# Let's see how many tables are there with tage ' by county'\n",
    "print(len(df_html)) # There are 4 tables\n",
    "# Let's see the first table\n",
    "df_html[0]"
   ]
  }
 ],
 "metadata": {
  "kernelspec": {
   "display_name": "Building-ETL-Pipelines-with-Python",
   "language": "python",
   "name": "building-etl-pipelines-with-python"
  },
  "language_info": {
   "codemirror_mode": {
    "name": "ipython",
    "version": 3
   },
   "file_extension": ".py",
   "mimetype": "text/x-python",
   "name": "python",
   "nbconvert_exporter": "python",
   "pygments_lexer": "ipython3",
   "version": "3.11.6"
  }
 },
 "nbformat": 4,
 "nbformat_minor": 5
}
